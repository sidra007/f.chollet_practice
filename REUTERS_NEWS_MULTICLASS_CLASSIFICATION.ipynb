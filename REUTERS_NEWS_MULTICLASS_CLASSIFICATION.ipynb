{
  "nbformat": 4,
  "nbformat_minor": 0,
  "metadata": {
    "colab": {
      "name": "REUTERS_NEWS_MULTICLASS_CLASSIFICATION.ipynb",
      "provenance": [],
      "authorship_tag": "ABX9TyMAqwlL6xOxCaC1kGLYpkr7",
      "include_colab_link": true
    },
    "kernelspec": {
      "name": "python3",
      "display_name": "Python 3"
    }
  },
  "cells": [
    {
      "cell_type": "markdown",
      "metadata": {
        "id": "view-in-github",
        "colab_type": "text"
      },
      "source": [
        "<a href=\"https://colab.research.google.com/github/sidra007/f.chollet_practice/blob/main/REUTERS_NEWS_MULTICLASS_CLASSIFICATION.ipynb\" target=\"_parent\"><img src=\"https://colab.research.google.com/assets/colab-badge.svg\" alt=\"Open In Colab\"/></a>"
      ]
    },
    {
      "cell_type": "code",
      "metadata": {
        "id": "RERJnRTfrLEm"
      },
      "source": [
        "import tensorflow as tf"
      ],
      "execution_count": 1,
      "outputs": []
    },
    {
      "cell_type": "code",
      "metadata": {
        "colab": {
          "base_uri": "https://localhost:8080/",
          "height": 35
        },
        "id": "rFnqhPIVrbU1",
        "outputId": "f1a9d94b-d258-4c02-d522-45c6ca518011"
      },
      "source": [
        "import keras\r\n",
        "keras.__version__\r\n"
      ],
      "execution_count": 2,
      "outputs": [
        {
          "output_type": "execute_result",
          "data": {
            "application/vnd.google.colaboratory.intrinsic+json": {
              "type": "string"
            },
            "text/plain": [
              "'2.4.3'"
            ]
          },
          "metadata": {
            "tags": []
          },
          "execution_count": 2
        }
      ]
    },
    {
      "cell_type": "code",
      "metadata": {
        "colab": {
          "base_uri": "https://localhost:8080/"
        },
        "id": "ZVsuGBdRrhhq",
        "outputId": "d2ad019d-cd6b-4c07-9086-a02bdaa9cc2b"
      },
      "source": [
        "from keras.datasets import reuters\r\n",
        "\r\n",
        "(train_data, train_labels), (test_data, test_labels) = reuters.load_data(num_words=10000)\r\n"
      ],
      "execution_count": 3,
      "outputs": [
        {
          "output_type": "stream",
          "text": [
            "Downloading data from https://storage.googleapis.com/tensorflow/tf-keras-datasets/reuters.npz\n",
            "2113536/2110848 [==============================] - 0s 0us/step\n"
          ],
          "name": "stdout"
        },
        {
          "output_type": "stream",
          "text": [
            "/usr/local/lib/python3.7/dist-packages/tensorflow/python/keras/datasets/reuters.py:148: VisibleDeprecationWarning: Creating an ndarray from ragged nested sequences (which is a list-or-tuple of lists-or-tuples-or ndarrays with different lengths or shapes) is deprecated. If you meant to do this, you must specify 'dtype=object' when creating the ndarray\n",
            "  x_train, y_train = np.array(xs[:idx]), np.array(labels[:idx])\n",
            "/usr/local/lib/python3.7/dist-packages/tensorflow/python/keras/datasets/reuters.py:149: VisibleDeprecationWarning: Creating an ndarray from ragged nested sequences (which is a list-or-tuple of lists-or-tuples-or ndarrays with different lengths or shapes) is deprecated. If you meant to do this, you must specify 'dtype=object' when creating the ndarray\n",
            "  x_test, y_test = np.array(xs[idx:]), np.array(labels[idx:])\n"
          ],
          "name": "stderr"
        }
      ]
    },
    {
      "cell_type": "code",
      "metadata": {
        "colab": {
          "base_uri": "https://localhost:8080/"
        },
        "id": "FKKLhRWkrijB",
        "outputId": "173511be-c99d-4f2b-d203-e8fe6ea01b5d"
      },
      "source": [
        "len(train_data)"
      ],
      "execution_count": 4,
      "outputs": [
        {
          "output_type": "execute_result",
          "data": {
            "text/plain": [
              "8982"
            ]
          },
          "metadata": {
            "tags": []
          },
          "execution_count": 4
        }
      ]
    },
    {
      "cell_type": "code",
      "metadata": {
        "colab": {
          "base_uri": "https://localhost:8080/"
        },
        "id": "m6VPpw4ermNm",
        "outputId": "c5cb21f4-e9f6-41b3-f615-42e7cf6f0aa5"
      },
      "source": [
        "len(test_data)"
      ],
      "execution_count": 5,
      "outputs": [
        {
          "output_type": "execute_result",
          "data": {
            "text/plain": [
              "2246"
            ]
          },
          "metadata": {
            "tags": []
          },
          "execution_count": 5
        }
      ]
    },
    {
      "cell_type": "code",
      "metadata": {
        "colab": {
          "base_uri": "https://localhost:8080/"
        },
        "id": "ULeTySqJrpz4",
        "outputId": "3da60948-8154-4814-f9cd-5e7c2de00758"
      },
      "source": [
        "train_data[10]"
      ],
      "execution_count": 6,
      "outputs": [
        {
          "output_type": "execute_result",
          "data": {
            "text/plain": [
              "[1,\n",
              " 245,\n",
              " 273,\n",
              " 207,\n",
              " 156,\n",
              " 53,\n",
              " 74,\n",
              " 160,\n",
              " 26,\n",
              " 14,\n",
              " 46,\n",
              " 296,\n",
              " 26,\n",
              " 39,\n",
              " 74,\n",
              " 2979,\n",
              " 3554,\n",
              " 14,\n",
              " 46,\n",
              " 4689,\n",
              " 4329,\n",
              " 86,\n",
              " 61,\n",
              " 3499,\n",
              " 4795,\n",
              " 14,\n",
              " 61,\n",
              " 451,\n",
              " 4329,\n",
              " 17,\n",
              " 12]"
            ]
          },
          "metadata": {
            "tags": []
          },
          "execution_count": 6
        }
      ]
    },
    {
      "cell_type": "code",
      "metadata": {
        "id": "pc_84vCvrxuh"
      },
      "source": [
        "import numpy as np\r\n",
        "\r\n",
        "def vectorize_sequences(sequences, dimension=10000):\r\n",
        "    results = np.zeros((len(sequences), dimension))\r\n",
        "    for i, sequence in enumerate(sequences):\r\n",
        "        results[i, sequence] = 1.\r\n",
        "    return results\r\n",
        "\r\n",
        "# Our vectorized training data\r\n",
        "x_train = vectorize_sequences(train_data)\r\n",
        "# Our vectorized test data\r\n",
        "x_test = vectorize_sequences(test_data)\r\n"
      ],
      "execution_count": 8,
      "outputs": []
    },
    {
      "cell_type": "code",
      "metadata": {
        "id": "UETQhqiusRaH"
      },
      "source": [
        "from keras.utils.np_utils import to_categorical\r\n",
        "\r\n",
        "one_hot_train_labels = to_categorical(train_labels)\r\n",
        "one_hot_test_labels = to_categorical(test_labels)\r\n"
      ],
      "execution_count": 9,
      "outputs": []
    },
    {
      "cell_type": "code",
      "metadata": {
        "id": "H_mTPNdKsYgH"
      },
      "source": [
        "from keras import models\r\n",
        "from keras import layers\r\n",
        "\r\n",
        "model = models.Sequential()\r\n",
        "model.add(layers.Dense(64, activation='relu', input_shape=(10000,)))\r\n",
        "model.add(layers.Dense(64, activation='relu'))\r\n",
        "model.add(layers.Dense(46, activation='softmax'))\r\n"
      ],
      "execution_count": 10,
      "outputs": []
    },
    {
      "cell_type": "code",
      "metadata": {
        "id": "4VAuP4x9sdWa"
      },
      "source": [
        "model.compile(optimizer='rmsprop',\r\n",
        "              loss='categorical_crossentropy',\r\n",
        "              metrics=['accuracy'])\r\n"
      ],
      "execution_count": 11,
      "outputs": []
    },
    {
      "cell_type": "code",
      "metadata": {
        "id": "af31hoA0skgu"
      },
      "source": [
        "x_val = x_train[:1000]\r\n",
        "partial_x_train = x_train[1000:]\r\n",
        "\r\n",
        "y_val = one_hot_train_labels[:1000]\r\n",
        "partial_y_train = one_hot_train_labels[1000:]\r\n"
      ],
      "execution_count": 12,
      "outputs": []
    },
    {
      "cell_type": "code",
      "metadata": {
        "colab": {
          "base_uri": "https://localhost:8080/"
        },
        "id": "vqAs7JqCsmUb",
        "outputId": "9e73b1c6-396e-4c86-8cd2-53794279dabe"
      },
      "source": [
        "history = model.fit(partial_x_train,\r\n",
        "                    partial_y_train,\r\n",
        "                    epochs=20,\r\n",
        "                    batch_size=512,\r\n",
        "                    validation_data=(x_val, y_val))\r\n"
      ],
      "execution_count": 13,
      "outputs": [
        {
          "output_type": "stream",
          "text": [
            "Epoch 1/20\n",
            "16/16 [==============================] - 2s 89ms/step - loss: 3.2744 - accuracy: 0.4055 - val_loss: 1.8835 - val_accuracy: 0.6350\n",
            "Epoch 2/20\n",
            "16/16 [==============================] - 1s 59ms/step - loss: 1.5995 - accuracy: 0.6794 - val_loss: 1.3422 - val_accuracy: 0.7190\n",
            "Epoch 3/20\n",
            "16/16 [==============================] - 1s 48ms/step - loss: 1.1171 - accuracy: 0.7650 - val_loss: 1.1408 - val_accuracy: 0.7520\n",
            "Epoch 4/20\n",
            "16/16 [==============================] - 1s 48ms/step - loss: 0.8760 - accuracy: 0.8185 - val_loss: 1.0481 - val_accuracy: 0.7750\n",
            "Epoch 5/20\n",
            "16/16 [==============================] - 1s 53ms/step - loss: 0.6801 - accuracy: 0.8591 - val_loss: 0.9672 - val_accuracy: 0.8010\n",
            "Epoch 6/20\n",
            "16/16 [==============================] - 1s 59ms/step - loss: 0.5480 - accuracy: 0.8862 - val_loss: 0.9196 - val_accuracy: 0.8120\n",
            "Epoch 7/20\n",
            "16/16 [==============================] - 1s 57ms/step - loss: 0.4538 - accuracy: 0.9052 - val_loss: 0.8988 - val_accuracy: 0.8070\n",
            "Epoch 8/20\n",
            "16/16 [==============================] - 1s 48ms/step - loss: 0.3654 - accuracy: 0.9232 - val_loss: 0.8695 - val_accuracy: 0.8190\n",
            "Epoch 9/20\n",
            "16/16 [==============================] - 1s 48ms/step - loss: 0.3152 - accuracy: 0.9316 - val_loss: 0.8720 - val_accuracy: 0.8190\n",
            "Epoch 10/20\n",
            "16/16 [==============================] - 1s 49ms/step - loss: 0.2576 - accuracy: 0.9422 - val_loss: 0.8818 - val_accuracy: 0.8160\n",
            "Epoch 11/20\n",
            "16/16 [==============================] - 1s 51ms/step - loss: 0.2147 - accuracy: 0.9499 - val_loss: 0.8810 - val_accuracy: 0.8200\n",
            "Epoch 12/20\n",
            "16/16 [==============================] - 1s 57ms/step - loss: 0.1962 - accuracy: 0.9516 - val_loss: 0.9219 - val_accuracy: 0.8090\n",
            "Epoch 13/20\n",
            "16/16 [==============================] - 1s 47ms/step - loss: 0.1682 - accuracy: 0.9528 - val_loss: 0.9632 - val_accuracy: 0.8070\n",
            "Epoch 14/20\n",
            "16/16 [==============================] - 1s 47ms/step - loss: 0.1582 - accuracy: 0.9554 - val_loss: 0.9060 - val_accuracy: 0.8060\n",
            "Epoch 15/20\n",
            "16/16 [==============================] - 1s 48ms/step - loss: 0.1374 - accuracy: 0.9596 - val_loss: 0.9344 - val_accuracy: 0.8090\n",
            "Epoch 16/20\n",
            "16/16 [==============================] - 1s 47ms/step - loss: 0.1247 - accuracy: 0.9561 - val_loss: 0.9602 - val_accuracy: 0.8030\n",
            "Epoch 17/20\n",
            "16/16 [==============================] - 1s 47ms/step - loss: 0.1195 - accuracy: 0.9588 - val_loss: 0.9621 - val_accuracy: 0.8090\n",
            "Epoch 18/20\n",
            "16/16 [==============================] - 1s 47ms/step - loss: 0.1115 - accuracy: 0.9647 - val_loss: 1.0338 - val_accuracy: 0.8030\n",
            "Epoch 19/20\n",
            "16/16 [==============================] - 1s 54ms/step - loss: 0.1122 - accuracy: 0.9622 - val_loss: 1.0278 - val_accuracy: 0.8050\n",
            "Epoch 20/20\n",
            "16/16 [==============================] - 1s 53ms/step - loss: 0.1010 - accuracy: 0.9641 - val_loss: 1.0349 - val_accuracy: 0.8090\n"
          ],
          "name": "stdout"
        }
      ]
    },
    {
      "cell_type": "code",
      "metadata": {
        "colab": {
          "base_uri": "https://localhost:8080/",
          "height": 295
        },
        "id": "3XL3RJDHs71A",
        "outputId": "afdde7f1-3242-4e5a-bcf3-90eaee06fd10"
      },
      "source": [
        "import matplotlib.pyplot as plt\r\n",
        "\r\n",
        "loss = history.history['loss']\r\n",
        "val_loss = history.history['val_loss']\r\n",
        "\r\n",
        "epochs = range(1, len(loss) + 1)\r\n",
        "\r\n",
        "plt.plot(epochs, loss, 'bo', label='Training loss')\r\n",
        "plt.plot(epochs, val_loss, 'b', label='Validation loss')\r\n",
        "plt.title('Training and validation loss')\r\n",
        "plt.xlabel('Epochs')\r\n",
        "plt.ylabel('Loss')\r\n",
        "plt.legend()\r\n",
        "\r\n",
        "plt.show()\r\n"
      ],
      "execution_count": 14,
      "outputs": [
        {
          "output_type": "display_data",
          "data": {
            "image/png": "[encoded data removed]",
            "text/plain": [
              "<Figure size 432x288 with 1 Axes>"
            ]
          },
          "metadata": {
            "tags": [],
            "needs_background": "light"
          }
        }
      ]
    },
    {
      "cell_type": "code",
      "metadata": {
        "colab": {
          "base_uri": "https://localhost:8080/",
          "height": 295
        },
        "id": "OrRzDQb5s_lZ",
        "outputId": "345b6da3-d5d4-4d73-8ad4-e66e081430a6"
      },
      "source": [
        "plt.clf()   # clear figure\r\n",
        "\r\n",
        "acc = history.history['accuracy']\r\n",
        "val_acc = history.history['val_accuracy']\r\n",
        "\r\n",
        "plt.plot(epochs, acc, 'bo', label='Training acc')\r\n",
        "plt.plot(epochs, val_acc, 'b', label='Validation acc')\r\n",
        "plt.title('Training and validation accuracy')\r\n",
        "plt.xlabel('Epochs')\r\n",
        "plt.ylabel('Loss')\r\n",
        "plt.legend()\r\n",
        "\r\n",
        "plt.show()\r\n"
      ],
      "execution_count": 16,
      "outputs": [
        {
          "output_type": "display_data",
          "data": {
            "image/png": "[encoded data removed]",
            "text/plain": [
              "<Figure size 432x288 with 1 Axes>"
            ]
          },
          "metadata": {
            "tags": [],
            "needs_background": "light"
          }
        }
      ]
    },
    {
      "cell_type": "code",
      "metadata": {
        "id": "kU92lxkRtS_q"
      },
      "source": [
        "predictions = model.predict(x_test)\r\n"
      ],
      "execution_count": 17,
      "outputs": []
    },
    {
      "cell_type": "code",
      "metadata": {
        "colab": {
          "base_uri": "https://localhost:8080/"
        },
        "id": "iLxbz3BytYA4",
        "outputId": "90e97a68-d08d-4a4b-8bd3-af74ff19f244"
      },
      "source": [
        "np.argmax(predictions[0])\r\n"
      ],
      "execution_count": 18,
      "outputs": [
        {
          "output_type": "execute_result",
          "data": {
            "text/plain": [
              "3"
            ]
          },
          "metadata": {
            "tags": []
          },
          "execution_count": 18
        }
      ]
    }
  ]
}