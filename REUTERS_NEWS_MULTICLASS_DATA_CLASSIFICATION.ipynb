{
  "nbformat": 4,
  "nbformat_minor": 0,
  "metadata": {
    "colab": {
      "name": "REUTERS_NEWS_MULTICLASS_CLASSIFICATION.ipynb",
      "provenance": [],
      "authorship_tag": "ABX9TyPpiBB5Gn7grrTcLXxRCOCl",
      "include_colab_link": true
    },
    "kernelspec": {
      "name": "python3",
      "display_name": "Python 3"
    }
  },
  "cells": [
    {
      "cell_type": "markdown",
      "metadata": {
        "id": "view-in-github",
        "colab_type": "text"
      },
      "source": [
        "<a href=\"https://colab.research.google.com/github/sidra007/f.chollet_practice/blob/main/REUTERS_NEWS_MULTICLASS_CLASSIFICATION.ipynb\" target=\"_parent\"><img src=\"https://colab.research.google.com/assets/colab-badge.svg\" alt=\"Open In Colab\"/></a>"
      ]
    },
    {
      "cell_type": "markdown",
      "metadata": {
        "id": "T55qdXDzIoB1"
      },
      "source": [
        "### **THIS IS A MULTICLASS CLASSIFICATION DATA.THERE ARE 46 DIFFERENT TOPICS EACH HAVING 10 EXAMPLES**"
      ]
    },
    {
      "cell_type": "markdown",
      "metadata": {
        "id": "9bb9GjBzPQll"
      },
      "source": [
        "IMPORTING LIBRARIES"
      ]
    },
    {
      "cell_type": "code",
      "metadata": {
        "id": "RERJnRTfrLEm"
      },
      "source": [
        "import tensorflow as tf\r\n",
        "from tensorflow.keras import datasets,models,optimizers,utils\r\n",
        "import numpy as np\r\n",
        "import pandas as pd\r\n",
        "import matplotlib.pyplot as plt"
      ],
      "execution_count": 35,
      "outputs": []
    },
    {
      "cell_type": "markdown",
      "metadata": {
        "id": "R7HNnKJOJwyq"
      },
      "source": [
        "LOADING DATASET"
      ]
    },
    {
      "cell_type": "code",
      "metadata": {
        "colab": {
          "base_uri": "https://localhost:8080/"
        },
        "id": "ZVsuGBdRrhhq",
        "outputId": "2a5717bb-1a48-414a-9b1d-8043ab357070"
      },
      "source": [
        "from keras.datasets import reuters\r\n",
        "\r\n",
        "(train_data, train_labels), (test_data, test_labels) = reuters.load_data(num_words=10000)\r\n"
      ],
      "execution_count": 36,
      "outputs": [
        {
          "output_type": "stream",
          "text": [
            "/usr/local/lib/python3.7/dist-packages/tensorflow/python/keras/datasets/reuters.py:148: VisibleDeprecationWarning: Creating an ndarray from ragged nested sequences (which is a list-or-tuple of lists-or-tuples-or ndarrays with different lengths or shapes) is deprecated. If you meant to do this, you must specify 'dtype=object' when creating the ndarray\n",
            "  x_train, y_train = np.array(xs[:idx]), np.array(labels[:idx])\n",
            "/usr/local/lib/python3.7/dist-packages/tensorflow/python/keras/datasets/reuters.py:149: VisibleDeprecationWarning: Creating an ndarray from ragged nested sequences (which is a list-or-tuple of lists-or-tuples-or ndarrays with different lengths or shapes) is deprecated. If you meant to do this, you must specify 'dtype=object' when creating the ndarray\n",
            "  x_test, y_test = np.array(xs[idx:]), np.array(labels[idx:])\n"
          ],
          "name": "stderr"
        }
      ]
    },
    {
      "cell_type": "code",
      "metadata": {
        "colab": {
          "base_uri": "https://localhost:8080/"
        },
        "id": "FKKLhRWkrijB",
        "outputId": "f7932d0c-fe6b-4772-e638-8b14a21e5d9a"
      },
      "source": [
        "len(train_data)"
      ],
      "execution_count": 37,
      "outputs": [
        {
          "output_type": "execute_result",
          "data": {
            "text/plain": [
              "8982"
            ]
          },
          "metadata": {
            "tags": []
          },
          "execution_count": 37
        }
      ]
    },
    {
      "cell_type": "code",
      "metadata": {
        "colab": {
          "base_uri": "https://localhost:8080/"
        },
        "id": "m6VPpw4ermNm",
        "outputId": "8392fcf3-4060-497d-e9d9-92aed612fd56"
      },
      "source": [
        "len(test_data)"
      ],
      "execution_count": 38,
      "outputs": [
        {
          "output_type": "execute_result",
          "data": {
            "text/plain": [
              "2246"
            ]
          },
          "metadata": {
            "tags": []
          },
          "execution_count": 38
        }
      ]
    },
    {
      "cell_type": "code",
      "metadata": {
        "colab": {
          "base_uri": "https://localhost:8080/"
        },
        "id": "ULeTySqJrpz4",
        "outputId": "9e21db40-84b5-4165-ef16-eacdfd83a892"
      },
      "source": [
        "train_data[10]"
      ],
      "execution_count": 39,
      "outputs": [
        {
          "output_type": "execute_result",
          "data": {
            "text/plain": [
              "[1,\n",
              " 245,\n",
              " 273,\n",
              " 207,\n",
              " 156,\n",
              " 53,\n",
              " 74,\n",
              " 160,\n",
              " 26,\n",
              " 14,\n",
              " 46,\n",
              " 296,\n",
              " 26,\n",
              " 39,\n",
              " 74,\n",
              " 2979,\n",
              " 3554,\n",
              " 14,\n",
              " 46,\n",
              " 4689,\n",
              " 4329,\n",
              " 86,\n",
              " 61,\n",
              " 3499,\n",
              " 4795,\n",
              " 14,\n",
              " 61,\n",
              " 451,\n",
              " 4329,\n",
              " 17,\n",
              " 12]"
            ]
          },
          "metadata": {
            "tags": []
          },
          "execution_count": 39
        }
      ]
    },
    {
      "cell_type": "markdown",
      "metadata": {
        "id": "KxnzwZAaJ1qn"
      },
      "source": [
        "PREPARING DATA"
      ]
    },
    {
      "cell_type": "code",
      "metadata": {
        "id": "pc_84vCvrxuh"
      },
      "source": [
        "import numpy as np\r\n",
        "\r\n",
        "def vectorize_sequences(sequences, dimension=10000):\r\n",
        "    results = np.zeros((len(sequences), dimension))\r\n",
        "    for i, sequence in enumerate(sequences):\r\n",
        "        results[i, sequence] = 1.\r\n",
        "    return results\r\n",
        "\r\n",
        "# Our vectorized training data\r\n",
        "x_train = vectorize_sequences(train_data)\r\n",
        "# Our vectorized test data\r\n",
        "x_test = vectorize_sequences(test_data)\r\n"
      ],
      "execution_count": 40,
      "outputs": []
    },
    {
      "cell_type": "markdown",
      "metadata": {
        "id": "aK1Nq1OsJ_j_"
      },
      "source": [
        "ONE HOT ENCODING LABELS"
      ]
    },
    {
      "cell_type": "code",
      "metadata": {
        "id": "UETQhqiusRaH"
      },
      "source": [
        "one_hot_train_labels = to_categorical(train_labels)\r\n",
        "one_hot_test_labels = to_categorical(test_labels)\r\n"
      ],
      "execution_count": 41,
      "outputs": []
    },
    {
      "cell_type": "markdown",
      "metadata": {
        "id": "esSBnCf6KMpk"
      },
      "source": [
        "BUILDING MODEL"
      ]
    },
    {
      "cell_type": "code",
      "metadata": {
        "id": "H_mTPNdKsYgH"
      },
      "source": [
        "from keras import models\r\n",
        "from keras import layers\r\n",
        "\r\n",
        "model = models.Sequential()\r\n",
        "model.add(layers.Dense(64, activation='relu', input_shape=(10000,)))\r\n",
        "model.add(layers.Dense(64, activation='relu'))\r\n",
        "model.add(layers.Dense(46, activation='softmax'))\r\n"
      ],
      "execution_count": 42,
      "outputs": []
    },
    {
      "cell_type": "markdown",
      "metadata": {
        "id": "HYyfAqu3KUGb"
      },
      "source": [
        "COMPILATION"
      ]
    },
    {
      "cell_type": "code",
      "metadata": {
        "id": "4VAuP4x9sdWa"
      },
      "source": [
        "model.compile(optimizer='rmsprop',\r\n",
        "              loss='categorical_crossentropy',\r\n",
        "              metrics=['accuracy'])\r\n"
      ],
      "execution_count": 43,
      "outputs": []
    },
    {
      "cell_type": "markdown",
      "metadata": {
        "id": "EY0RAAg6KYCO"
      },
      "source": [
        "SEPARATING VALIDATION DATA FROM TRAIN DATA"
      ]
    },
    {
      "cell_type": "code",
      "metadata": {
        "id": "af31hoA0skgu"
      },
      "source": [
        "x_val = x_train[:1000]\r\n",
        "partial_x_train = x_train[1000:]\r\n",
        "\r\n",
        "y_val = one_hot_train_labels[:1000]\r\n",
        "partial_y_train = one_hot_train_labels[1000:]\r\n"
      ],
      "execution_count": 44,
      "outputs": []
    },
    {
      "cell_type": "markdown",
      "metadata": {
        "id": "2b5Udzi7Kgon"
      },
      "source": [
        "MODEL FITTING"
      ]
    },
    {
      "cell_type": "code",
      "metadata": {
        "colab": {
          "base_uri": "https://localhost:8080/"
        },
        "id": "vqAs7JqCsmUb",
        "outputId": "cc63a01f-8286-4b4d-b1d7-63437b92b7ef"
      },
      "source": [
        "history = model.fit(partial_x_train,\r\n",
        "                    partial_y_train,\r\n",
        "                    epochs=20,\r\n",
        "                    batch_size=512,\r\n",
        "                    validation_data=(x_val, y_val))\r\n"
      ],
      "execution_count": 45,
      "outputs": [
        {
          "output_type": "stream",
          "text": [
            "Epoch 1/20\n",
            "16/16 [==============================] - 2s 64ms/step - loss: 3.1727 - accuracy: 0.3969 - val_loss: 1.7766 - val_accuracy: 0.6540\n",
            "Epoch 2/20\n",
            "16/16 [==============================] - 1s 51ms/step - loss: 1.5267 - accuracy: 0.6945 - val_loss: 1.3021 - val_accuracy: 0.7180\n",
            "Epoch 3/20\n",
            "16/16 [==============================] - 1s 50ms/step - loss: 1.0633 - accuracy: 0.7753 - val_loss: 1.1270 - val_accuracy: 0.7580\n",
            "Epoch 4/20\n",
            "16/16 [==============================] - 1s 52ms/step - loss: 0.8248 - accuracy: 0.8268 - val_loss: 1.0286 - val_accuracy: 0.7840\n",
            "Epoch 5/20\n",
            "16/16 [==============================] - 1s 51ms/step - loss: 0.6478 - accuracy: 0.8703 - val_loss: 0.9487 - val_accuracy: 0.8160\n",
            "Epoch 6/20\n",
            "16/16 [==============================] - 1s 51ms/step - loss: 0.5031 - accuracy: 0.8985 - val_loss: 0.9174 - val_accuracy: 0.8180\n",
            "Epoch 7/20\n",
            "16/16 [==============================] - 1s 51ms/step - loss: 0.4083 - accuracy: 0.9223 - val_loss: 0.8951 - val_accuracy: 0.8160\n",
            "Epoch 8/20\n",
            "16/16 [==============================] - 1s 52ms/step - loss: 0.3346 - accuracy: 0.9347 - val_loss: 0.8978 - val_accuracy: 0.8220\n",
            "Epoch 9/20\n",
            "16/16 [==============================] - 1s 53ms/step - loss: 0.2568 - accuracy: 0.9436 - val_loss: 0.8701 - val_accuracy: 0.8260\n",
            "Epoch 10/20\n",
            "16/16 [==============================] - 1s 52ms/step - loss: 0.2243 - accuracy: 0.9499 - val_loss: 0.9006 - val_accuracy: 0.8160\n",
            "Epoch 11/20\n",
            "16/16 [==============================] - 1s 51ms/step - loss: 0.1978 - accuracy: 0.9537 - val_loss: 0.9185 - val_accuracy: 0.8110\n",
            "Epoch 12/20\n",
            "16/16 [==============================] - 1s 51ms/step - loss: 0.1716 - accuracy: 0.9543 - val_loss: 0.9312 - val_accuracy: 0.8130\n",
            "Epoch 13/20\n",
            "16/16 [==============================] - 1s 51ms/step - loss: 0.1464 - accuracy: 0.9578 - val_loss: 0.9534 - val_accuracy: 0.8080\n",
            "Epoch 14/20\n",
            "16/16 [==============================] - 1s 52ms/step - loss: 0.1333 - accuracy: 0.9607 - val_loss: 0.9292 - val_accuracy: 0.8120\n",
            "Epoch 15/20\n",
            "16/16 [==============================] - 1s 52ms/step - loss: 0.1181 - accuracy: 0.9637 - val_loss: 0.9883 - val_accuracy: 0.8140\n",
            "Epoch 16/20\n",
            "16/16 [==============================] - 1s 52ms/step - loss: 0.1204 - accuracy: 0.9578 - val_loss: 0.9808 - val_accuracy: 0.8150\n",
            "Epoch 17/20\n",
            "16/16 [==============================] - 1s 52ms/step - loss: 0.1081 - accuracy: 0.9639 - val_loss: 1.0943 - val_accuracy: 0.8000\n",
            "Epoch 18/20\n",
            "16/16 [==============================] - 1s 52ms/step - loss: 0.1087 - accuracy: 0.9619 - val_loss: 1.0451 - val_accuracy: 0.8090\n",
            "Epoch 19/20\n",
            "16/16 [==============================] - 1s 52ms/step - loss: 0.1046 - accuracy: 0.9606 - val_loss: 1.1009 - val_accuracy: 0.8020\n",
            "Epoch 20/20\n",
            "16/16 [==============================] - 1s 51ms/step - loss: 0.0997 - accuracy: 0.9620 - val_loss: 1.0938 - val_accuracy: 0.8090\n"
          ],
          "name": "stdout"
        }
      ]
    },
    {
      "cell_type": "markdown",
      "metadata": {
        "id": "uvbD_xx2LZ2I"
      },
      "source": [
        "PLOTTING EPOCHS vs VALIDATION LOSS AND TRAINING LOSS"
      ]
    },
    {
      "cell_type": "code",
      "metadata": {
        "colab": {
          "base_uri": "https://localhost:8080/",
          "height": 295
        },
        "id": "3XL3RJDHs71A",
        "outputId": "03c65735-a5c9-4d76-8695-1a83a819e31f"
      },
      "source": [
        "loss = history.history['loss']\r\n",
        "val_loss = history.history['val_loss']\r\n",
        "\r\n",
        "epochs = range(1, len(loss) + 1)\r\n",
        "\r\n",
        "plt.plot(epochs, loss, 'bo', label='Training loss')\r\n",
        "plt.plot(epochs, val_loss, 'b', label='Validation loss')\r\n",
        "plt.title('Training and validation loss')\r\n",
        "plt.xlabel('Epochs')\r\n",
        "plt.ylabel('Loss')\r\n",
        "plt.legend()\r\n",
        "\r\n",
        "plt.show()\r\n"
      ],
      "execution_count": 46,
      "outputs": [
        {
          "output_type": "display_data",
          "data": {
            "image/png": "[encoded data removed]",
            "text/plain": [
              "<Figure size 432x288 with 1 Axes>"
            ]
          },
          "metadata": {
            "tags": [],
            "needs_background": "light"
          }
        }
      ]
    },
    {
      "cell_type": "markdown",
      "metadata": {
        "id": "oOJXjmPqLngN"
      },
      "source": [
        "PLOTTING EPOCHS Vs VALIDATION ACCURACY AND TRAINING ACCURACY"
      ]
    },
    {
      "cell_type": "code",
      "metadata": {
        "colab": {
          "base_uri": "https://localhost:8080/",
          "height": 295
        },
        "id": "OrRzDQb5s_lZ",
        "outputId": "0c324c48-5b2c-427b-c333-462c9ce9f3ff"
      },
      "source": [
        "plt.clf()   # clear figure\r\n",
        "\r\n",
        "acc = history.history['accuracy']\r\n",
        "val_acc = history.history['val_accuracy']\r\n",
        "\r\n",
        "plt.plot(epochs, acc, 'bo', label='Training acc')\r\n",
        "plt.plot(epochs, val_acc, 'b', label='Validation acc')\r\n",
        "plt.title('Training and validation accuracy')\r\n",
        "plt.xlabel('Epochs')\r\n",
        "plt.ylabel('Loss')\r\n",
        "plt.legend()\r\n",
        "\r\n",
        "plt.show()\r\n"
      ],
      "execution_count": 47,
      "outputs": [
        {
          "output_type": "display_data",
          "data": {
            "image/png": "[encoded data removed]",
            "text/plain": [
              "<Figure size 432x288 with 1 Axes>"
            ]
          },
          "metadata": {
            "tags": [],
            "needs_background": "light"
          }
        }
      ]
    },
    {
      "cell_type": "markdown",
      "metadata": {
        "id": "p2rkXCplL4ev"
      },
      "source": [
        "AS WE CAN SEE THAT MODEL STARTS OVERFITTING AFTER 8 EPOCHS THEREFORE WE WILL TRAIN MODEL FOR 8 EPOCHS TO GET BETTER ACCURACY"
      ]
    },
    {
      "cell_type": "code",
      "metadata": {
        "colab": {
          "base_uri": "https://localhost:8080/"
        },
        "id": "-kPhyslFNU09",
        "outputId": "21450219-ea3c-4304-f0fe-b4eaed0cf39c"
      },
      "source": [
        "model = models.Sequential()\r\n",
        "model.add(layers.Dense(64, activation='relu', input_shape=(10000,)))\r\n",
        "model.add(layers.Dense(64, activation='relu'))\r\n",
        "model.add(layers.Dense(46, activation='softmax'))\r\n",
        "\r\n",
        "model.compile(optimizer='rmsprop',\r\n",
        "              loss='categorical_crossentropy',\r\n",
        "              metrics=['accuracy'])\r\n",
        "model.fit(partial_x_train,\r\n",
        "          partial_y_train,\r\n",
        "          epochs=8,\r\n",
        "          batch_size=512,\r\n",
        "          validation_data=(x_val, y_val))\r\n",
        "results = model.evaluate(x_test, one_hot_test_labels)"
      ],
      "execution_count": 49,
      "outputs": [
        {
          "output_type": "stream",
          "text": [
            "Epoch 1/8\n",
            "16/16 [==============================] - 2s 65ms/step - loss: 3.0399 - accuracy: 0.4316 - val_loss: 1.6952 - val_accuracy: 0.6280\n",
            "Epoch 2/8\n",
            "16/16 [==============================] - 1s 53ms/step - loss: 1.4880 - accuracy: 0.6801 - val_loss: 1.2808 - val_accuracy: 0.7180\n",
            "Epoch 3/8\n",
            "16/16 [==============================] - 1s 52ms/step - loss: 1.0793 - accuracy: 0.7700 - val_loss: 1.1106 - val_accuracy: 0.7680\n",
            "Epoch 4/8\n",
            "16/16 [==============================] - 1s 52ms/step - loss: 0.8298 - accuracy: 0.8214 - val_loss: 1.0522 - val_accuracy: 0.7620\n",
            "Epoch 5/8\n",
            "16/16 [==============================] - 1s 52ms/step - loss: 0.6712 - accuracy: 0.8594 - val_loss: 0.9497 - val_accuracy: 0.8060\n",
            "Epoch 6/8\n",
            "16/16 [==============================] - 1s 52ms/step - loss: 0.5349 - accuracy: 0.8918 - val_loss: 0.8939 - val_accuracy: 0.8180\n",
            "Epoch 7/8\n",
            "16/16 [==============================] - 1s 54ms/step - loss: 0.4194 - accuracy: 0.9138 - val_loss: 0.8731 - val_accuracy: 0.8180\n",
            "Epoch 8/8\n",
            "16/16 [==============================] - 1s 50ms/step - loss: 0.3394 - accuracy: 0.9365 - val_loss: 0.9210 - val_accuracy: 0.7970\n",
            "71/71 [==============================] - 0s 3ms/step - loss: 1.0060 - accuracy: 0.7783\n"
          ],
          "name": "stdout"
        },
        {
          "output_type": "execute_result",
          "data": {
            "text/plain": [
              "[1.005964994430542, 0.7782725095748901]"
            ]
          },
          "metadata": {
            "tags": []
          },
          "execution_count": 49
        }
      ]
    },
    {
      "cell_type": "code",
      "metadata": {
        "colab": {
          "base_uri": "https://localhost:8080/"
        },
        "id": "LBvkHbecN4df",
        "outputId": "f29a0d40-27f7-4b47-99b8-f496a1acc4d5"
      },
      "source": [
        "results"
      ],
      "execution_count": 50,
      "outputs": [
        {
          "output_type": "execute_result",
          "data": {
            "text/plain": [
              "[1.005964994430542, 0.7782725095748901]"
            ]
          },
          "metadata": {
            "tags": []
          },
          "execution_count": 50
        }
      ]
    },
    {
      "cell_type": "markdown",
      "metadata": {
        "id": "awkt5ZMnOSHp"
      },
      "source": [
        "PREDICTIONS"
      ]
    },
    {
      "cell_type": "code",
      "metadata": {
        "id": "kU92lxkRtS_q"
      },
      "source": [
        "predictions = model.predict(x_test)\r\n"
      ],
      "execution_count": 51,
      "outputs": []
    },
    {
      "cell_type": "code",
      "metadata": {
        "colab": {
          "base_uri": "https://localhost:8080/"
        },
        "id": "2UbApyPIOekb",
        "outputId": "38c89b04-3075-4111-847e-ea431c1b9270"
      },
      "source": [
        "predictions[0].shape"
      ],
      "execution_count": 52,
      "outputs": [
        {
          "output_type": "execute_result",
          "data": {
            "text/plain": [
              "(46,)"
            ]
          },
          "metadata": {
            "tags": []
          },
          "execution_count": 52
        }
      ]
    },
    {
      "cell_type": "code",
      "metadata": {
        "colab": {
          "base_uri": "https://localhost:8080/"
        },
        "id": "1xISjTwLOpyn",
        "outputId": "14ef8bbd-b14a-43bf-d292-ddbc45051d16"
      },
      "source": [
        "np.sum(predictions[0])"
      ],
      "execution_count": 53,
      "outputs": [
        {
          "output_type": "execute_result",
          "data": {
            "text/plain": [
              "0.99999994"
            ]
          },
          "metadata": {
            "tags": []
          },
          "execution_count": 53
        }
      ]
    },
    {
      "cell_type": "code",
      "metadata": {
        "colab": {
          "base_uri": "https://localhost:8080/"
        },
        "id": "iLxbz3BytYA4",
        "outputId": "7e554964-f62a-4a7c-9eb8-88f3490cc1d2"
      },
      "source": [
        "np.argmax(predictions[0])\r\n"
      ],
      "execution_count": 54,
      "outputs": [
        {
          "output_type": "execute_result",
          "data": {
            "text/plain": [
              "3"
            ]
          },
          "metadata": {
            "tags": []
          },
          "execution_count": 54
        }
      ]
    }
  ]
}
