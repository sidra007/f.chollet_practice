{
  "nbformat": 4,
  "nbformat_minor": 0,
  "metadata": {
    "colab": {
      "name": "mnist_dataset.ipynb",
      "provenance": [],
      "authorship_tag": "ABX9TyMs1b2r0Pimhp0LIuqvNYlP",
      "include_colab_link": true
    },
    "kernelspec": {
      "name": "python3",
      "display_name": "Python 3"
    }
  },
  "cells": [
    {
      "cell_type": "markdown",
      "metadata": {
        "id": "view-in-github",
        "colab_type": "text"
      },
      "source": [
        "<a href=\"https://colab.research.google.com/github/sidra007/f.chollet_practice/blob/main/mnist_dataset.ipynb\" target=\"_parent\"><img src=\"https://colab.research.google.com/assets/colab-badge.svg\" alt=\"Open In Colab\"/></a>"
      ]
    },
    {
      "cell_type": "code",
      "metadata": {
        "colab": {
          "base_uri": "https://localhost:8080/",
          "height": 35
        },
        "id": "0DM9D9boPf-4",
        "outputId": "d82cacc8-e118-40cd-901a-6b4b1644c2de"
      },
      "source": [
        "import tensorflow as tf\r\n",
        "import numpy as np\r\n",
        "import pandas as pd\r\n",
        "from matplotlib import pyplot as plt\r\n",
        "import keras\r\n",
        "keras.__version__\r\n"
      ],
      "execution_count": 11,
      "outputs": [
        {
          "output_type": "execute_result",
          "data": {
            "application/vnd.google.colaboratory.intrinsic+json": {
              "type": "string"
            },
            "text/plain": [
              "'2.4.3'"
            ]
          },
          "metadata": {
            "tags": []
          },
          "execution_count": 11
        }
      ]
    },
    {
      "cell_type": "code",
      "metadata": {
        "id": "2enK14dZP6Xb"
      },
      "source": [
        "from keras.datasets import mnist\r\n",
        "\r\n",
        "(train_images, train_labels), (test_images, test_labels) = mnist.load_data()\r\n"
      ],
      "execution_count": 12,
      "outputs": []
    },
    {
      "cell_type": "code",
      "metadata": {
        "colab": {
          "base_uri": "https://localhost:8080/"
        },
        "id": "QJ_PAxB6P_Xk",
        "outputId": "280734a6-6f16-40e9-dcfd-b22c860daf94"
      },
      "source": [
        "train_images.shape\r\n"
      ],
      "execution_count": 13,
      "outputs": [
        {
          "output_type": "execute_result",
          "data": {
            "text/plain": [
              "(60000, 28, 28)"
            ]
          },
          "metadata": {
            "tags": []
          },
          "execution_count": 13
        }
      ]
    },
    {
      "cell_type": "code",
      "metadata": {
        "colab": {
          "base_uri": "https://localhost:8080/"
        },
        "id": "orrBab5cQQ9N",
        "outputId": "ed0af306-505c-4c08-bde4-88273743a030"
      },
      "source": [
        "train_labels"
      ],
      "execution_count": 14,
      "outputs": [
        {
          "output_type": "execute_result",
          "data": {
            "text/plain": [
              "array([5, 0, 4, ..., 5, 6, 8], dtype=uint8)"
            ]
          },
          "metadata": {
            "tags": []
          },
          "execution_count": 14
        }
      ]
    },
    {
      "cell_type": "code",
      "metadata": {
        "id": "ooKL5PQ6QVmy"
      },
      "source": [
        "from keras import models\r\n",
        "from keras import layers\r\n",
        "\r\n",
        "network = models.Sequential()\r\n",
        "network.add(layers.Dense(512, activation='relu', input_shape=(28 * 28,)))\r\n",
        "network.add(layers.Dense(10, activation='softmax'))\r\n"
      ],
      "execution_count": 15,
      "outputs": []
    },
    {
      "cell_type": "code",
      "metadata": {
        "id": "0FuCaZrBQYYZ"
      },
      "source": [
        "network.compile(optimizer='rmsprop',\r\n",
        "                loss='categorical_crossentropy',\r\n",
        "                metrics=['accuracy'])\r\n"
      ],
      "execution_count": 16,
      "outputs": []
    },
    {
      "cell_type": "code",
      "metadata": {
        "id": "tgTb4sorQdcZ"
      },
      "source": [
        "train_images = train_images.reshape((60000, 28 * 28))\r\n",
        "train_images = train_images.astype('float32') / 255\r\n",
        "\r\n",
        "test_images = test_images.reshape((10000, 28 * 28))\r\n",
        "test_images = test_images.astype('float32') / 255\r\n"
      ],
      "execution_count": 17,
      "outputs": []
    },
    {
      "cell_type": "code",
      "metadata": {
        "id": "RrL2tVyWQiAC"
      },
      "source": [
        "from keras.utils import to_categorical\r\n",
        "\r\n",
        "train_labels = to_categorical(train_labels)\r\n",
        "test_labels = to_categorical(test_labels)\r\n"
      ],
      "execution_count": 18,
      "outputs": []
    },
    {
      "cell_type": "code",
      "metadata": {
        "colab": {
          "base_uri": "https://localhost:8080/"
        },
        "id": "9RSFEjTiQnuA",
        "outputId": "b4bdcbd0-6e33-4e8e-d559-96ee87aeefb6"
      },
      "source": [
        "network.fit(train_images, train_labels, epochs=5, batch_size=128)"
      ],
      "execution_count": 19,
      "outputs": [
        {
          "output_type": "stream",
          "text": [
            "Epoch 1/5\n",
            "469/469 [==============================] - 5s 9ms/step - loss: 0.4221 - accuracy: 0.8739\n",
            "Epoch 2/5\n",
            "469/469 [==============================] - 4s 9ms/step - loss: 0.1164 - accuracy: 0.9655\n",
            "Epoch 3/5\n",
            "469/469 [==============================] - 4s 9ms/step - loss: 0.0708 - accuracy: 0.9788\n",
            "Epoch 4/5\n",
            "469/469 [==============================] - 4s 9ms/step - loss: 0.0492 - accuracy: 0.9857\n",
            "Epoch 5/5\n",
            "469/469 [==============================] - 4s 8ms/step - loss: 0.0335 - accuracy: 0.9895\n"
          ],
          "name": "stdout"
        },
        {
          "output_type": "execute_result",
          "data": {
            "text/plain": [
              "<tensorflow.python.keras.callbacks.History at 0x7f43f4e982e8>"
            ]
          },
          "metadata": {
            "tags": []
          },
          "execution_count": 19
        }
      ]
    },
    {
      "cell_type": "code",
      "metadata": {
        "colab": {
          "base_uri": "https://localhost:8080/"
        },
        "id": "558QRkonRLco",
        "outputId": "92920015-fcd0-44b3-cc82-d69a30a81bf8"
      },
      "source": [
        "test_loss, test_acc = network.evaluate(test_images, test_labels)"
      ],
      "execution_count": 20,
      "outputs": [
        {
          "output_type": "stream",
          "text": [
            "313/313 [==============================] - 1s 2ms/step - loss: 0.0676 - accuracy: 0.9796\n"
          ],
          "name": "stdout"
        }
      ]
    },
    {
      "cell_type": "code",
      "metadata": {
        "colab": {
          "base_uri": "https://localhost:8080/"
        },
        "id": "TGGmgGBWRNb4",
        "outputId": "78a2d2a2-a2f0-4426-f6c3-8e1c15681c84"
      },
      "source": [
        "print('test_acc:', test_acc)"
      ],
      "execution_count": 21,
      "outputs": [
        {
          "output_type": "stream",
          "text": [
            "test_acc: 0.9796000123023987\n"
          ],
          "name": "stdout"
        }
      ]
    }
  ]
}